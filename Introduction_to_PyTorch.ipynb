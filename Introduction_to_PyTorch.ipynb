{
  "nbformat": 4,
  "nbformat_minor": 0,
  "metadata": {
    "colab": {
      "provenance": [],
      "authorship_tag": "ABX9TyMVUVDgpjz3PV4KHB3AyKnV",
      "include_colab_link": true
    },
    "kernelspec": {
      "name": "python3",
      "display_name": "Python 3"
    },
    "language_info": {
      "name": "python"
    },
    "accelerator": "GPU",
    "gpuClass": "standard",
    "widgets": {
      "application/vnd.jupyter.widget-state+json": {
        "bf7f201b0bf843deabab364ca65788a2": {
          "model_module": "@jupyter-widgets/controls",
          "model_name": "HBoxModel",
          "model_module_version": "1.5.0",
          "state": {
            "_dom_classes": [],
            "_model_module": "@jupyter-widgets/controls",
            "_model_module_version": "1.5.0",
            "_model_name": "HBoxModel",
            "_view_count": null,
            "_view_module": "@jupyter-widgets/controls",
            "_view_module_version": "1.5.0",
            "_view_name": "HBoxView",
            "box_style": "",
            "children": [
              "IPY_MODEL_4f503149bab54a4daa1a072f07fe087f",
              "IPY_MODEL_cabf5406bac34eb9b4000f258c5f9b0e",
              "IPY_MODEL_19c44b80a61d453f9ee263061f76def7"
            ],
            "layout": "IPY_MODEL_11eba9b46aa94ec6b613d693ccb462ac"
          }
        },
        "4f503149bab54a4daa1a072f07fe087f": {
          "model_module": "@jupyter-widgets/controls",
          "model_name": "HTMLModel",
          "model_module_version": "1.5.0",
          "state": {
            "_dom_classes": [],
            "_model_module": "@jupyter-widgets/controls",
            "_model_module_version": "1.5.0",
            "_model_name": "HTMLModel",
            "_view_count": null,
            "_view_module": "@jupyter-widgets/controls",
            "_view_module_version": "1.5.0",
            "_view_name": "HTMLView",
            "description": "",
            "description_tooltip": null,
            "layout": "IPY_MODEL_904c495763154cafbda924a34643231c",
            "placeholder": "​",
            "style": "IPY_MODEL_0633432a786d459a997a7422585c4fa6",
            "value": "100%"
          }
        },
        "cabf5406bac34eb9b4000f258c5f9b0e": {
          "model_module": "@jupyter-widgets/controls",
          "model_name": "FloatProgressModel",
          "model_module_version": "1.5.0",
          "state": {
            "_dom_classes": [],
            "_model_module": "@jupyter-widgets/controls",
            "_model_module_version": "1.5.0",
            "_model_name": "FloatProgressModel",
            "_view_count": null,
            "_view_module": "@jupyter-widgets/controls",
            "_view_module_version": "1.5.0",
            "_view_name": "ProgressView",
            "bar_style": "success",
            "description": "",
            "description_tooltip": null,
            "layout": "IPY_MODEL_f587170a22a242a49cf13fce057d8ddd",
            "max": 26421880,
            "min": 0,
            "orientation": "horizontal",
            "style": "IPY_MODEL_c14a7c38c3f64fe48e175671f66a1355",
            "value": 26421880
          }
        },
        "19c44b80a61d453f9ee263061f76def7": {
          "model_module": "@jupyter-widgets/controls",
          "model_name": "HTMLModel",
          "model_module_version": "1.5.0",
          "state": {
            "_dom_classes": [],
            "_model_module": "@jupyter-widgets/controls",
            "_model_module_version": "1.5.0",
            "_model_name": "HTMLModel",
            "_view_count": null,
            "_view_module": "@jupyter-widgets/controls",
            "_view_module_version": "1.5.0",
            "_view_name": "HTMLView",
            "description": "",
            "description_tooltip": null,
            "layout": "IPY_MODEL_9ceb0d48cf624018b0fbc64f9bfdfe9d",
            "placeholder": "​",
            "style": "IPY_MODEL_4468302438624edbbedecf9571be85d1",
            "value": " 26421880/26421880 [00:01&lt;00:00, 27788909.80it/s]"
          }
        },
        "11eba9b46aa94ec6b613d693ccb462ac": {
          "model_module": "@jupyter-widgets/base",
          "model_name": "LayoutModel",
          "model_module_version": "1.2.0",
          "state": {
            "_model_module": "@jupyter-widgets/base",
            "_model_module_version": "1.2.0",
            "_model_name": "LayoutModel",
            "_view_count": null,
            "_view_module": "@jupyter-widgets/base",
            "_view_module_version": "1.2.0",
            "_view_name": "LayoutView",
            "align_content": null,
            "align_items": null,
            "align_self": null,
            "border": null,
            "bottom": null,
            "display": null,
            "flex": null,
            "flex_flow": null,
            "grid_area": null,
            "grid_auto_columns": null,
            "grid_auto_flow": null,
            "grid_auto_rows": null,
            "grid_column": null,
            "grid_gap": null,
            "grid_row": null,
            "grid_template_areas": null,
            "grid_template_columns": null,
            "grid_template_rows": null,
            "height": null,
            "justify_content": null,
            "justify_items": null,
            "left": null,
            "margin": null,
            "max_height": null,
            "max_width": null,
            "min_height": null,
            "min_width": null,
            "object_fit": null,
            "object_position": null,
            "order": null,
            "overflow": null,
            "overflow_x": null,
            "overflow_y": null,
            "padding": null,
            "right": null,
            "top": null,
            "visibility": null,
            "width": null
          }
        },
        "904c495763154cafbda924a34643231c": {
          "model_module": "@jupyter-widgets/base",
          "model_name": "LayoutModel",
          "model_module_version": "1.2.0",
          "state": {
            "_model_module": "@jupyter-widgets/base",
            "_model_module_version": "1.2.0",
            "_model_name": "LayoutModel",
            "_view_count": null,
            "_view_module": "@jupyter-widgets/base",
            "_view_module_version": "1.2.0",
            "_view_name": "LayoutView",
            "align_content": null,
            "align_items": null,
            "align_self": null,
            "border": null,
            "bottom": null,
            "display": null,
            "flex": null,
            "flex_flow": null,
            "grid_area": null,
            "grid_auto_columns": null,
            "grid_auto_flow": null,
            "grid_auto_rows": null,
            "grid_column": null,
            "grid_gap": null,
            "grid_row": null,
            "grid_template_areas": null,
            "grid_template_columns": null,
            "grid_template_rows": null,
            "height": null,
            "justify_content": null,
            "justify_items": null,
            "left": null,
            "margin": null,
            "max_height": null,
            "max_width": null,
            "min_height": null,
            "min_width": null,
            "object_fit": null,
            "object_position": null,
            "order": null,
            "overflow": null,
            "overflow_x": null,
            "overflow_y": null,
            "padding": null,
            "right": null,
            "top": null,
            "visibility": null,
            "width": null
          }
        },
        "0633432a786d459a997a7422585c4fa6": {
          "model_module": "@jupyter-widgets/controls",
          "model_name": "DescriptionStyleModel",
          "model_module_version": "1.5.0",
          "state": {
            "_model_module": "@jupyter-widgets/controls",
            "_model_module_version": "1.5.0",
            "_model_name": "DescriptionStyleModel",
            "_view_count": null,
            "_view_module": "@jupyter-widgets/base",
            "_view_module_version": "1.2.0",
            "_view_name": "StyleView",
            "description_width": ""
          }
        },
        "f587170a22a242a49cf13fce057d8ddd": {
          "model_module": "@jupyter-widgets/base",
          "model_name": "LayoutModel",
          "model_module_version": "1.2.0",
          "state": {
            "_model_module": "@jupyter-widgets/base",
            "_model_module_version": "1.2.0",
            "_model_name": "LayoutModel",
            "_view_count": null,
            "_view_module": "@jupyter-widgets/base",
            "_view_module_version": "1.2.0",
            "_view_name": "LayoutView",
            "align_content": null,
            "align_items": null,
            "align_self": null,
            "border": null,
            "bottom": null,
            "display": null,
            "flex": null,
            "flex_flow": null,
            "grid_area": null,
            "grid_auto_columns": null,
            "grid_auto_flow": null,
            "grid_auto_rows": null,
            "grid_column": null,
            "grid_gap": null,
            "grid_row": null,
            "grid_template_areas": null,
            "grid_template_columns": null,
            "grid_template_rows": null,
            "height": null,
            "justify_content": null,
            "justify_items": null,
            "left": null,
            "margin": null,
            "max_height": null,
            "max_width": null,
            "min_height": null,
            "min_width": null,
            "object_fit": null,
            "object_position": null,
            "order": null,
            "overflow": null,
            "overflow_x": null,
            "overflow_y": null,
            "padding": null,
            "right": null,
            "top": null,
            "visibility": null,
            "width": null
          }
        },
        "c14a7c38c3f64fe48e175671f66a1355": {
          "model_module": "@jupyter-widgets/controls",
          "model_name": "ProgressStyleModel",
          "model_module_version": "1.5.0",
          "state": {
            "_model_module": "@jupyter-widgets/controls",
            "_model_module_version": "1.5.0",
            "_model_name": "ProgressStyleModel",
            "_view_count": null,
            "_view_module": "@jupyter-widgets/base",
            "_view_module_version": "1.2.0",
            "_view_name": "StyleView",
            "bar_color": null,
            "description_width": ""
          }
        },
        "9ceb0d48cf624018b0fbc64f9bfdfe9d": {
          "model_module": "@jupyter-widgets/base",
          "model_name": "LayoutModel",
          "model_module_version": "1.2.0",
          "state": {
            "_model_module": "@jupyter-widgets/base",
            "_model_module_version": "1.2.0",
            "_model_name": "LayoutModel",
            "_view_count": null,
            "_view_module": "@jupyter-widgets/base",
            "_view_module_version": "1.2.0",
            "_view_name": "LayoutView",
            "align_content": null,
            "align_items": null,
            "align_self": null,
            "border": null,
            "bottom": null,
            "display": null,
            "flex": null,
            "flex_flow": null,
            "grid_area": null,
            "grid_auto_columns": null,
            "grid_auto_flow": null,
            "grid_auto_rows": null,
            "grid_column": null,
            "grid_gap": null,
            "grid_row": null,
            "grid_template_areas": null,
            "grid_template_columns": null,
            "grid_template_rows": null,
            "height": null,
            "justify_content": null,
            "justify_items": null,
            "left": null,
            "margin": null,
            "max_height": null,
            "max_width": null,
            "min_height": null,
            "min_width": null,
            "object_fit": null,
            "object_position": null,
            "order": null,
            "overflow": null,
            "overflow_x": null,
            "overflow_y": null,
            "padding": null,
            "right": null,
            "top": null,
            "visibility": null,
            "width": null
          }
        },
        "4468302438624edbbedecf9571be85d1": {
          "model_module": "@jupyter-widgets/controls",
          "model_name": "DescriptionStyleModel",
          "model_module_version": "1.5.0",
          "state": {
            "_model_module": "@jupyter-widgets/controls",
            "_model_module_version": "1.5.0",
            "_model_name": "DescriptionStyleModel",
            "_view_count": null,
            "_view_module": "@jupyter-widgets/base",
            "_view_module_version": "1.2.0",
            "_view_name": "StyleView",
            "description_width": ""
          }
        },
        "2f17ae98d3724af9a595fbc47ef56237": {
          "model_module": "@jupyter-widgets/controls",
          "model_name": "HBoxModel",
          "model_module_version": "1.5.0",
          "state": {
            "_dom_classes": [],
            "_model_module": "@jupyter-widgets/controls",
            "_model_module_version": "1.5.0",
            "_model_name": "HBoxModel",
            "_view_count": null,
            "_view_module": "@jupyter-widgets/controls",
            "_view_module_version": "1.5.0",
            "_view_name": "HBoxView",
            "box_style": "",
            "children": [
              "IPY_MODEL_ec93b75852b64812b1c6278a7e8479b4",
              "IPY_MODEL_97badafbc762434aa21ddc15dbe952c5",
              "IPY_MODEL_d6b4d37e281541d380a4990e949f8cc2"
            ],
            "layout": "IPY_MODEL_af750815d0ec400ea739b35f57636412"
          }
        },
        "ec93b75852b64812b1c6278a7e8479b4": {
          "model_module": "@jupyter-widgets/controls",
          "model_name": "HTMLModel",
          "model_module_version": "1.5.0",
          "state": {
            "_dom_classes": [],
            "_model_module": "@jupyter-widgets/controls",
            "_model_module_version": "1.5.0",
            "_model_name": "HTMLModel",
            "_view_count": null,
            "_view_module": "@jupyter-widgets/controls",
            "_view_module_version": "1.5.0",
            "_view_name": "HTMLView",
            "description": "",
            "description_tooltip": null,
            "layout": "IPY_MODEL_5303b791117c42a08eae70c304c7a216",
            "placeholder": "​",
            "style": "IPY_MODEL_0bc9b5b9609241088dccc5a821253a13",
            "value": "100%"
          }
        },
        "97badafbc762434aa21ddc15dbe952c5": {
          "model_module": "@jupyter-widgets/controls",
          "model_name": "FloatProgressModel",
          "model_module_version": "1.5.0",
          "state": {
            "_dom_classes": [],
            "_model_module": "@jupyter-widgets/controls",
            "_model_module_version": "1.5.0",
            "_model_name": "FloatProgressModel",
            "_view_count": null,
            "_view_module": "@jupyter-widgets/controls",
            "_view_module_version": "1.5.0",
            "_view_name": "ProgressView",
            "bar_style": "success",
            "description": "",
            "description_tooltip": null,
            "layout": "IPY_MODEL_7b8a247e77054ff6b21d3da6bf69b423",
            "max": 29515,
            "min": 0,
            "orientation": "horizontal",
            "style": "IPY_MODEL_7e052e89fbcc47a49f34c76097abdb0a",
            "value": 29515
          }
        },
        "d6b4d37e281541d380a4990e949f8cc2": {
          "model_module": "@jupyter-widgets/controls",
          "model_name": "HTMLModel",
          "model_module_version": "1.5.0",
          "state": {
            "_dom_classes": [],
            "_model_module": "@jupyter-widgets/controls",
            "_model_module_version": "1.5.0",
            "_model_name": "HTMLModel",
            "_view_count": null,
            "_view_module": "@jupyter-widgets/controls",
            "_view_module_version": "1.5.0",
            "_view_name": "HTMLView",
            "description": "",
            "description_tooltip": null,
            "layout": "IPY_MODEL_07f12460834a4a01a777143125d9c4c2",
            "placeholder": "​",
            "style": "IPY_MODEL_e01ad0c9015d441a83e3926034bd6ef5",
            "value": " 29515/29515 [00:00&lt;00:00, 336990.70it/s]"
          }
        },
        "af750815d0ec400ea739b35f57636412": {
          "model_module": "@jupyter-widgets/base",
          "model_name": "LayoutModel",
          "model_module_version": "1.2.0",
          "state": {
            "_model_module": "@jupyter-widgets/base",
            "_model_module_version": "1.2.0",
            "_model_name": "LayoutModel",
            "_view_count": null,
            "_view_module": "@jupyter-widgets/base",
            "_view_module_version": "1.2.0",
            "_view_name": "LayoutView",
            "align_content": null,
            "align_items": null,
            "align_self": null,
            "border": null,
            "bottom": null,
            "display": null,
            "flex": null,
            "flex_flow": null,
            "grid_area": null,
            "grid_auto_columns": null,
            "grid_auto_flow": null,
            "grid_auto_rows": null,
            "grid_column": null,
            "grid_gap": null,
            "grid_row": null,
            "grid_template_areas": null,
            "grid_template_columns": null,
            "grid_template_rows": null,
            "height": null,
            "justify_content": null,
            "justify_items": null,
            "left": null,
            "margin": null,
            "max_height": null,
            "max_width": null,
            "min_height": null,
            "min_width": null,
            "object_fit": null,
            "object_position": null,
            "order": null,
            "overflow": null,
            "overflow_x": null,
            "overflow_y": null,
            "padding": null,
            "right": null,
            "top": null,
            "visibility": null,
            "width": null
          }
        },
        "5303b791117c42a08eae70c304c7a216": {
          "model_module": "@jupyter-widgets/base",
          "model_name": "LayoutModel",
          "model_module_version": "1.2.0",
          "state": {
            "_model_module": "@jupyter-widgets/base",
            "_model_module_version": "1.2.0",
            "_model_name": "LayoutModel",
            "_view_count": null,
            "_view_module": "@jupyter-widgets/base",
            "_view_module_version": "1.2.0",
            "_view_name": "LayoutView",
            "align_content": null,
            "align_items": null,
            "align_self": null,
            "border": null,
            "bottom": null,
            "display": null,
            "flex": null,
            "flex_flow": null,
            "grid_area": null,
            "grid_auto_columns": null,
            "grid_auto_flow": null,
            "grid_auto_rows": null,
            "grid_column": null,
            "grid_gap": null,
            "grid_row": null,
            "grid_template_areas": null,
            "grid_template_columns": null,
            "grid_template_rows": null,
            "height": null,
            "justify_content": null,
            "justify_items": null,
            "left": null,
            "margin": null,
            "max_height": null,
            "max_width": null,
            "min_height": null,
            "min_width": null,
            "object_fit": null,
            "object_position": null,
            "order": null,
            "overflow": null,
            "overflow_x": null,
            "overflow_y": null,
            "padding": null,
            "right": null,
            "top": null,
            "visibility": null,
            "width": null
          }
        },
        "0bc9b5b9609241088dccc5a821253a13": {
          "model_module": "@jupyter-widgets/controls",
          "model_name": "DescriptionStyleModel",
          "model_module_version": "1.5.0",
          "state": {
            "_model_module": "@jupyter-widgets/controls",
            "_model_module_version": "1.5.0",
            "_model_name": "DescriptionStyleModel",
            "_view_count": null,
            "_view_module": "@jupyter-widgets/base",
            "_view_module_version": "1.2.0",
            "_view_name": "StyleView",
            "description_width": ""
          }
        },
        "7b8a247e77054ff6b21d3da6bf69b423": {
          "model_module": "@jupyter-widgets/base",
          "model_name": "LayoutModel",
          "model_module_version": "1.2.0",
          "state": {
            "_model_module": "@jupyter-widgets/base",
            "_model_module_version": "1.2.0",
            "_model_name": "LayoutModel",
            "_view_count": null,
            "_view_module": "@jupyter-widgets/base",
            "_view_module_version": "1.2.0",
            "_view_name": "LayoutView",
            "align_content": null,
            "align_items": null,
            "align_self": null,
            "border": null,
            "bottom": null,
            "display": null,
            "flex": null,
            "flex_flow": null,
            "grid_area": null,
            "grid_auto_columns": null,
            "grid_auto_flow": null,
            "grid_auto_rows": null,
            "grid_column": null,
            "grid_gap": null,
            "grid_row": null,
            "grid_template_areas": null,
            "grid_template_columns": null,
            "grid_template_rows": null,
            "height": null,
            "justify_content": null,
            "justify_items": null,
            "left": null,
            "margin": null,
            "max_height": null,
            "max_width": null,
            "min_height": null,
            "min_width": null,
            "object_fit": null,
            "object_position": null,
            "order": null,
            "overflow": null,
            "overflow_x": null,
            "overflow_y": null,
            "padding": null,
            "right": null,
            "top": null,
            "visibility": null,
            "width": null
          }
        },
        "7e052e89fbcc47a49f34c76097abdb0a": {
          "model_module": "@jupyter-widgets/controls",
          "model_name": "ProgressStyleModel",
          "model_module_version": "1.5.0",
          "state": {
            "_model_module": "@jupyter-widgets/controls",
            "_model_module_version": "1.5.0",
            "_model_name": "ProgressStyleModel",
            "_view_count": null,
            "_view_module": "@jupyter-widgets/base",
            "_view_module_version": "1.2.0",
            "_view_name": "StyleView",
            "bar_color": null,
            "description_width": ""
          }
        },
        "07f12460834a4a01a777143125d9c4c2": {
          "model_module": "@jupyter-widgets/base",
          "model_name": "LayoutModel",
          "model_module_version": "1.2.0",
          "state": {
            "_model_module": "@jupyter-widgets/base",
            "_model_module_version": "1.2.0",
            "_model_name": "LayoutModel",
            "_view_count": null,
            "_view_module": "@jupyter-widgets/base",
            "_view_module_version": "1.2.0",
            "_view_name": "LayoutView",
            "align_content": null,
            "align_items": null,
            "align_self": null,
            "border": null,
            "bottom": null,
            "display": null,
            "flex": null,
            "flex_flow": null,
            "grid_area": null,
            "grid_auto_columns": null,
            "grid_auto_flow": null,
            "grid_auto_rows": null,
            "grid_column": null,
            "grid_gap": null,
            "grid_row": null,
            "grid_template_areas": null,
            "grid_template_columns": null,
            "grid_template_rows": null,
            "height": null,
            "justify_content": null,
            "justify_items": null,
            "left": null,
            "margin": null,
            "max_height": null,
            "max_width": null,
            "min_height": null,
            "min_width": null,
            "object_fit": null,
            "object_position": null,
            "order": null,
            "overflow": null,
            "overflow_x": null,
            "overflow_y": null,
            "padding": null,
            "right": null,
            "top": null,
            "visibility": null,
            "width": null
          }
        },
        "e01ad0c9015d441a83e3926034bd6ef5": {
          "model_module": "@jupyter-widgets/controls",
          "model_name": "DescriptionStyleModel",
          "model_module_version": "1.5.0",
          "state": {
            "_model_module": "@jupyter-widgets/controls",
            "_model_module_version": "1.5.0",
            "_model_name": "DescriptionStyleModel",
            "_view_count": null,
            "_view_module": "@jupyter-widgets/base",
            "_view_module_version": "1.2.0",
            "_view_name": "StyleView",
            "description_width": ""
          }
        },
        "f96cc055b57a4a608a07112d926680d3": {
          "model_module": "@jupyter-widgets/controls",
          "model_name": "HBoxModel",
          "model_module_version": "1.5.0",
          "state": {
            "_dom_classes": [],
            "_model_module": "@jupyter-widgets/controls",
            "_model_module_version": "1.5.0",
            "_model_name": "HBoxModel",
            "_view_count": null,
            "_view_module": "@jupyter-widgets/controls",
            "_view_module_version": "1.5.0",
            "_view_name": "HBoxView",
            "box_style": "",
            "children": [
              "IPY_MODEL_a1a014fecc504dfcba0e38d62a194941",
              "IPY_MODEL_95ab69769af54ac78b4f3b77741b18a3",
              "IPY_MODEL_dfcb42f3abd44e8ab68ce382d324347c"
            ],
            "layout": "IPY_MODEL_7031fd4e8c914c1d933b8b1305eb685d"
          }
        },
        "a1a014fecc504dfcba0e38d62a194941": {
          "model_module": "@jupyter-widgets/controls",
          "model_name": "HTMLModel",
          "model_module_version": "1.5.0",
          "state": {
            "_dom_classes": [],
            "_model_module": "@jupyter-widgets/controls",
            "_model_module_version": "1.5.0",
            "_model_name": "HTMLModel",
            "_view_count": null,
            "_view_module": "@jupyter-widgets/controls",
            "_view_module_version": "1.5.0",
            "_view_name": "HTMLView",
            "description": "",
            "description_tooltip": null,
            "layout": "IPY_MODEL_4375a00aea194e069393ec5862003e6f",
            "placeholder": "​",
            "style": "IPY_MODEL_e731b6ac7cb64c6aa20b9623de446a22",
            "value": "100%"
          }
        },
        "95ab69769af54ac78b4f3b77741b18a3": {
          "model_module": "@jupyter-widgets/controls",
          "model_name": "FloatProgressModel",
          "model_module_version": "1.5.0",
          "state": {
            "_dom_classes": [],
            "_model_module": "@jupyter-widgets/controls",
            "_model_module_version": "1.5.0",
            "_model_name": "FloatProgressModel",
            "_view_count": null,
            "_view_module": "@jupyter-widgets/controls",
            "_view_module_version": "1.5.0",
            "_view_name": "ProgressView",
            "bar_style": "success",
            "description": "",
            "description_tooltip": null,
            "layout": "IPY_MODEL_a06a5ad2af90443b95052ca9fadfb135",
            "max": 4422102,
            "min": 0,
            "orientation": "horizontal",
            "style": "IPY_MODEL_fb2760dc27014fe7a04a1812a585127b",
            "value": 4422102
          }
        },
        "dfcb42f3abd44e8ab68ce382d324347c": {
          "model_module": "@jupyter-widgets/controls",
          "model_name": "HTMLModel",
          "model_module_version": "1.5.0",
          "state": {
            "_dom_classes": [],
            "_model_module": "@jupyter-widgets/controls",
            "_model_module_version": "1.5.0",
            "_model_name": "HTMLModel",
            "_view_count": null,
            "_view_module": "@jupyter-widgets/controls",
            "_view_module_version": "1.5.0",
            "_view_name": "HTMLView",
            "description": "",
            "description_tooltip": null,
            "layout": "IPY_MODEL_66cd3ebf721445f3909fbd6d10674f17",
            "placeholder": "​",
            "style": "IPY_MODEL_688152f8d38f44ac954e2ae1b5c9943c",
            "value": " 4422102/4422102 [00:00&lt;00:00, 7591617.81it/s]"
          }
        },
        "7031fd4e8c914c1d933b8b1305eb685d": {
          "model_module": "@jupyter-widgets/base",
          "model_name": "LayoutModel",
          "model_module_version": "1.2.0",
          "state": {
            "_model_module": "@jupyter-widgets/base",
            "_model_module_version": "1.2.0",
            "_model_name": "LayoutModel",
            "_view_count": null,
            "_view_module": "@jupyter-widgets/base",
            "_view_module_version": "1.2.0",
            "_view_name": "LayoutView",
            "align_content": null,
            "align_items": null,
            "align_self": null,
            "border": null,
            "bottom": null,
            "display": null,
            "flex": null,
            "flex_flow": null,
            "grid_area": null,
            "grid_auto_columns": null,
            "grid_auto_flow": null,
            "grid_auto_rows": null,
            "grid_column": null,
            "grid_gap": null,
            "grid_row": null,
            "grid_template_areas": null,
            "grid_template_columns": null,
            "grid_template_rows": null,
            "height": null,
            "justify_content": null,
            "justify_items": null,
            "left": null,
            "margin": null,
            "max_height": null,
            "max_width": null,
            "min_height": null,
            "min_width": null,
            "object_fit": null,
            "object_position": null,
            "order": null,
            "overflow": null,
            "overflow_x": null,
            "overflow_y": null,
            "padding": null,
            "right": null,
            "top": null,
            "visibility": null,
            "width": null
          }
        },
        "4375a00aea194e069393ec5862003e6f": {
          "model_module": "@jupyter-widgets/base",
          "model_name": "LayoutModel",
          "model_module_version": "1.2.0",
          "state": {
            "_model_module": "@jupyter-widgets/base",
            "_model_module_version": "1.2.0",
            "_model_name": "LayoutModel",
            "_view_count": null,
            "_view_module": "@jupyter-widgets/base",
            "_view_module_version": "1.2.0",
            "_view_name": "LayoutView",
            "align_content": null,
            "align_items": null,
            "align_self": null,
            "border": null,
            "bottom": null,
            "display": null,
            "flex": null,
            "flex_flow": null,
            "grid_area": null,
            "grid_auto_columns": null,
            "grid_auto_flow": null,
            "grid_auto_rows": null,
            "grid_column": null,
            "grid_gap": null,
            "grid_row": null,
            "grid_template_areas": null,
            "grid_template_columns": null,
            "grid_template_rows": null,
            "height": null,
            "justify_content": null,
            "justify_items": null,
            "left": null,
            "margin": null,
            "max_height": null,
            "max_width": null,
            "min_height": null,
            "min_width": null,
            "object_fit": null,
            "object_position": null,
            "order": null,
            "overflow": null,
            "overflow_x": null,
            "overflow_y": null,
            "padding": null,
            "right": null,
            "top": null,
            "visibility": null,
            "width": null
          }
        },
        "e731b6ac7cb64c6aa20b9623de446a22": {
          "model_module": "@jupyter-widgets/controls",
          "model_name": "DescriptionStyleModel",
          "model_module_version": "1.5.0",
          "state": {
            "_model_module": "@jupyter-widgets/controls",
            "_model_module_version": "1.5.0",
            "_model_name": "DescriptionStyleModel",
            "_view_count": null,
            "_view_module": "@jupyter-widgets/base",
            "_view_module_version": "1.2.0",
            "_view_name": "StyleView",
            "description_width": ""
          }
        },
        "a06a5ad2af90443b95052ca9fadfb135": {
          "model_module": "@jupyter-widgets/base",
          "model_name": "LayoutModel",
          "model_module_version": "1.2.0",
          "state": {
            "_model_module": "@jupyter-widgets/base",
            "_model_module_version": "1.2.0",
            "_model_name": "LayoutModel",
            "_view_count": null,
            "_view_module": "@jupyter-widgets/base",
            "_view_module_version": "1.2.0",
            "_view_name": "LayoutView",
            "align_content": null,
            "align_items": null,
            "align_self": null,
            "border": null,
            "bottom": null,
            "display": null,
            "flex": null,
            "flex_flow": null,
            "grid_area": null,
            "grid_auto_columns": null,
            "grid_auto_flow": null,
            "grid_auto_rows": null,
            "grid_column": null,
            "grid_gap": null,
            "grid_row": null,
            "grid_template_areas": null,
            "grid_template_columns": null,
            "grid_template_rows": null,
            "height": null,
            "justify_content": null,
            "justify_items": null,
            "left": null,
            "margin": null,
            "max_height": null,
            "max_width": null,
            "min_height": null,
            "min_width": null,
            "object_fit": null,
            "object_position": null,
            "order": null,
            "overflow": null,
            "overflow_x": null,
            "overflow_y": null,
            "padding": null,
            "right": null,
            "top": null,
            "visibility": null,
            "width": null
          }
        },
        "fb2760dc27014fe7a04a1812a585127b": {
          "model_module": "@jupyter-widgets/controls",
          "model_name": "ProgressStyleModel",
          "model_module_version": "1.5.0",
          "state": {
            "_model_module": "@jupyter-widgets/controls",
            "_model_module_version": "1.5.0",
            "_model_name": "ProgressStyleModel",
            "_view_count": null,
            "_view_module": "@jupyter-widgets/base",
            "_view_module_version": "1.2.0",
            "_view_name": "StyleView",
            "bar_color": null,
            "description_width": ""
          }
        },
        "66cd3ebf721445f3909fbd6d10674f17": {
          "model_module": "@jupyter-widgets/base",
          "model_name": "LayoutModel",
          "model_module_version": "1.2.0",
          "state": {
            "_model_module": "@jupyter-widgets/base",
            "_model_module_version": "1.2.0",
            "_model_name": "LayoutModel",
            "_view_count": null,
            "_view_module": "@jupyter-widgets/base",
            "_view_module_version": "1.2.0",
            "_view_name": "LayoutView",
            "align_content": null,
            "align_items": null,
            "align_self": null,
            "border": null,
            "bottom": null,
            "display": null,
            "flex": null,
            "flex_flow": null,
            "grid_area": null,
            "grid_auto_columns": null,
            "grid_auto_flow": null,
            "grid_auto_rows": null,
            "grid_column": null,
            "grid_gap": null,
            "grid_row": null,
            "grid_template_areas": null,
            "grid_template_columns": null,
            "grid_template_rows": null,
            "height": null,
            "justify_content": null,
            "justify_items": null,
            "left": null,
            "margin": null,
            "max_height": null,
            "max_width": null,
            "min_height": null,
            "min_width": null,
            "object_fit": null,
            "object_position": null,
            "order": null,
            "overflow": null,
            "overflow_x": null,
            "overflow_y": null,
            "padding": null,
            "right": null,
            "top": null,
            "visibility": null,
            "width": null
          }
        },
        "688152f8d38f44ac954e2ae1b5c9943c": {
          "model_module": "@jupyter-widgets/controls",
          "model_name": "DescriptionStyleModel",
          "model_module_version": "1.5.0",
          "state": {
            "_model_module": "@jupyter-widgets/controls",
            "_model_module_version": "1.5.0",
            "_model_name": "DescriptionStyleModel",
            "_view_count": null,
            "_view_module": "@jupyter-widgets/base",
            "_view_module_version": "1.2.0",
            "_view_name": "StyleView",
            "description_width": ""
          }
        },
        "ca1a8b84811b42e887469df6f56546f6": {
          "model_module": "@jupyter-widgets/controls",
          "model_name": "HBoxModel",
          "model_module_version": "1.5.0",
          "state": {
            "_dom_classes": [],
            "_model_module": "@jupyter-widgets/controls",
            "_model_module_version": "1.5.0",
            "_model_name": "HBoxModel",
            "_view_count": null,
            "_view_module": "@jupyter-widgets/controls",
            "_view_module_version": "1.5.0",
            "_view_name": "HBoxView",
            "box_style": "",
            "children": [
              "IPY_MODEL_1c48a34690de405a99591b6b8961333d",
              "IPY_MODEL_a417afc605c148b183c4fb3c8d7d4b53",
              "IPY_MODEL_55f72fb82fab4b13aade6bad811a82cc"
            ],
            "layout": "IPY_MODEL_19da371d6c3248e38f1b5a9b705d956e"
          }
        },
        "1c48a34690de405a99591b6b8961333d": {
          "model_module": "@jupyter-widgets/controls",
          "model_name": "HTMLModel",
          "model_module_version": "1.5.0",
          "state": {
            "_dom_classes": [],
            "_model_module": "@jupyter-widgets/controls",
            "_model_module_version": "1.5.0",
            "_model_name": "HTMLModel",
            "_view_count": null,
            "_view_module": "@jupyter-widgets/controls",
            "_view_module_version": "1.5.0",
            "_view_name": "HTMLView",
            "description": "",
            "description_tooltip": null,
            "layout": "IPY_MODEL_918ec9f9074140168b1a982b84cbbdeb",
            "placeholder": "​",
            "style": "IPY_MODEL_ddce7129f13742db818ad81a813f71f8",
            "value": "100%"
          }
        },
        "a417afc605c148b183c4fb3c8d7d4b53": {
          "model_module": "@jupyter-widgets/controls",
          "model_name": "FloatProgressModel",
          "model_module_version": "1.5.0",
          "state": {
            "_dom_classes": [],
            "_model_module": "@jupyter-widgets/controls",
            "_model_module_version": "1.5.0",
            "_model_name": "FloatProgressModel",
            "_view_count": null,
            "_view_module": "@jupyter-widgets/controls",
            "_view_module_version": "1.5.0",
            "_view_name": "ProgressView",
            "bar_style": "success",
            "description": "",
            "description_tooltip": null,
            "layout": "IPY_MODEL_f2a29248a0d8499e90699a0d17f33df8",
            "max": 5148,
            "min": 0,
            "orientation": "horizontal",
            "style": "IPY_MODEL_ca25079a27eb432d93762a94c51270f7",
            "value": 5148
          }
        },
        "55f72fb82fab4b13aade6bad811a82cc": {
          "model_module": "@jupyter-widgets/controls",
          "model_name": "HTMLModel",
          "model_module_version": "1.5.0",
          "state": {
            "_dom_classes": [],
            "_model_module": "@jupyter-widgets/controls",
            "_model_module_version": "1.5.0",
            "_model_name": "HTMLModel",
            "_view_count": null,
            "_view_module": "@jupyter-widgets/controls",
            "_view_module_version": "1.5.0",
            "_view_name": "HTMLView",
            "description": "",
            "description_tooltip": null,
            "layout": "IPY_MODEL_45305ded7c354bb799d3b7b8f2218ddb",
            "placeholder": "​",
            "style": "IPY_MODEL_eafbdb486dfc4bcfa1dd2a98fc05a3f8",
            "value": " 5148/5148 [00:00&lt;00:00, 184358.71it/s]"
          }
        },
        "19da371d6c3248e38f1b5a9b705d956e": {
          "model_module": "@jupyter-widgets/base",
          "model_name": "LayoutModel",
          "model_module_version": "1.2.0",
          "state": {
            "_model_module": "@jupyter-widgets/base",
            "_model_module_version": "1.2.0",
            "_model_name": "LayoutModel",
            "_view_count": null,
            "_view_module": "@jupyter-widgets/base",
            "_view_module_version": "1.2.0",
            "_view_name": "LayoutView",
            "align_content": null,
            "align_items": null,
            "align_self": null,
            "border": null,
            "bottom": null,
            "display": null,
            "flex": null,
            "flex_flow": null,
            "grid_area": null,
            "grid_auto_columns": null,
            "grid_auto_flow": null,
            "grid_auto_rows": null,
            "grid_column": null,
            "grid_gap": null,
            "grid_row": null,
            "grid_template_areas": null,
            "grid_template_columns": null,
            "grid_template_rows": null,
            "height": null,
            "justify_content": null,
            "justify_items": null,
            "left": null,
            "margin": null,
            "max_height": null,
            "max_width": null,
            "min_height": null,
            "min_width": null,
            "object_fit": null,
            "object_position": null,
            "order": null,
            "overflow": null,
            "overflow_x": null,
            "overflow_y": null,
            "padding": null,
            "right": null,
            "top": null,
            "visibility": null,
            "width": null
          }
        },
        "918ec9f9074140168b1a982b84cbbdeb": {
          "model_module": "@jupyter-widgets/base",
          "model_name": "LayoutModel",
          "model_module_version": "1.2.0",
          "state": {
            "_model_module": "@jupyter-widgets/base",
            "_model_module_version": "1.2.0",
            "_model_name": "LayoutModel",
            "_view_count": null,
            "_view_module": "@jupyter-widgets/base",
            "_view_module_version": "1.2.0",
            "_view_name": "LayoutView",
            "align_content": null,
            "align_items": null,
            "align_self": null,
            "border": null,
            "bottom": null,
            "display": null,
            "flex": null,
            "flex_flow": null,
            "grid_area": null,
            "grid_auto_columns": null,
            "grid_auto_flow": null,
            "grid_auto_rows": null,
            "grid_column": null,
            "grid_gap": null,
            "grid_row": null,
            "grid_template_areas": null,
            "grid_template_columns": null,
            "grid_template_rows": null,
            "height": null,
            "justify_content": null,
            "justify_items": null,
            "left": null,
            "margin": null,
            "max_height": null,
            "max_width": null,
            "min_height": null,
            "min_width": null,
            "object_fit": null,
            "object_position": null,
            "order": null,
            "overflow": null,
            "overflow_x": null,
            "overflow_y": null,
            "padding": null,
            "right": null,
            "top": null,
            "visibility": null,
            "width": null
          }
        },
        "ddce7129f13742db818ad81a813f71f8": {
          "model_module": "@jupyter-widgets/controls",
          "model_name": "DescriptionStyleModel",
          "model_module_version": "1.5.0",
          "state": {
            "_model_module": "@jupyter-widgets/controls",
            "_model_module_version": "1.5.0",
            "_model_name": "DescriptionStyleModel",
            "_view_count": null,
            "_view_module": "@jupyter-widgets/base",
            "_view_module_version": "1.2.0",
            "_view_name": "StyleView",
            "description_width": ""
          }
        },
        "f2a29248a0d8499e90699a0d17f33df8": {
          "model_module": "@jupyter-widgets/base",
          "model_name": "LayoutModel",
          "model_module_version": "1.2.0",
          "state": {
            "_model_module": "@jupyter-widgets/base",
            "_model_module_version": "1.2.0",
            "_model_name": "LayoutModel",
            "_view_count": null,
            "_view_module": "@jupyter-widgets/base",
            "_view_module_version": "1.2.0",
            "_view_name": "LayoutView",
            "align_content": null,
            "align_items": null,
            "align_self": null,
            "border": null,
            "bottom": null,
            "display": null,
            "flex": null,
            "flex_flow": null,
            "grid_area": null,
            "grid_auto_columns": null,
            "grid_auto_flow": null,
            "grid_auto_rows": null,
            "grid_column": null,
            "grid_gap": null,
            "grid_row": null,
            "grid_template_areas": null,
            "grid_template_columns": null,
            "grid_template_rows": null,
            "height": null,
            "justify_content": null,
            "justify_items": null,
            "left": null,
            "margin": null,
            "max_height": null,
            "max_width": null,
            "min_height": null,
            "min_width": null,
            "object_fit": null,
            "object_position": null,
            "order": null,
            "overflow": null,
            "overflow_x": null,
            "overflow_y": null,
            "padding": null,
            "right": null,
            "top": null,
            "visibility": null,
            "width": null
          }
        },
        "ca25079a27eb432d93762a94c51270f7": {
          "model_module": "@jupyter-widgets/controls",
          "model_name": "ProgressStyleModel",
          "model_module_version": "1.5.0",
          "state": {
            "_model_module": "@jupyter-widgets/controls",
            "_model_module_version": "1.5.0",
            "_model_name": "ProgressStyleModel",
            "_view_count": null,
            "_view_module": "@jupyter-widgets/base",
            "_view_module_version": "1.2.0",
            "_view_name": "StyleView",
            "bar_color": null,
            "description_width": ""
          }
        },
        "45305ded7c354bb799d3b7b8f2218ddb": {
          "model_module": "@jupyter-widgets/base",
          "model_name": "LayoutModel",
          "model_module_version": "1.2.0",
          "state": {
            "_model_module": "@jupyter-widgets/base",
            "_model_module_version": "1.2.0",
            "_model_name": "LayoutModel",
            "_view_count": null,
            "_view_module": "@jupyter-widgets/base",
            "_view_module_version": "1.2.0",
            "_view_name": "LayoutView",
            "align_content": null,
            "align_items": null,
            "align_self": null,
            "border": null,
            "bottom": null,
            "display": null,
            "flex": null,
            "flex_flow": null,
            "grid_area": null,
            "grid_auto_columns": null,
            "grid_auto_flow": null,
            "grid_auto_rows": null,
            "grid_column": null,
            "grid_gap": null,
            "grid_row": null,
            "grid_template_areas": null,
            "grid_template_columns": null,
            "grid_template_rows": null,
            "height": null,
            "justify_content": null,
            "justify_items": null,
            "left": null,
            "margin": null,
            "max_height": null,
            "max_width": null,
            "min_height": null,
            "min_width": null,
            "object_fit": null,
            "object_position": null,
            "order": null,
            "overflow": null,
            "overflow_x": null,
            "overflow_y": null,
            "padding": null,
            "right": null,
            "top": null,
            "visibility": null,
            "width": null
          }
        },
        "eafbdb486dfc4bcfa1dd2a98fc05a3f8": {
          "model_module": "@jupyter-widgets/controls",
          "model_name": "DescriptionStyleModel",
          "model_module_version": "1.5.0",
          "state": {
            "_model_module": "@jupyter-widgets/controls",
            "_model_module_version": "1.5.0",
            "_model_name": "DescriptionStyleModel",
            "_view_count": null,
            "_view_module": "@jupyter-widgets/base",
            "_view_module_version": "1.2.0",
            "_view_name": "StyleView",
            "description_width": ""
          }
        }
      }
    }
  },
  "cells": [
    {
      "cell_type": "markdown",
      "metadata": {
        "id": "view-in-github",
        "colab_type": "text"
      },
      "source": [
        "<a href=\"https://colab.research.google.com/github/hackablock/Introduction-to-PyTorch/blob/main/Introduction_to_PyTorch.ipynb\" target=\"_parent\"><img src=\"https://colab.research.google.com/assets/colab-badge.svg\" alt=\"Open In Colab\"/></a>"
      ]
    },
    {
      "cell_type": "markdown",
      "source": [
        "Introduction to PyTorch\n",
        "From: https://learn.microsoft.com/en-us/training/modules/intro-machine-learning-pytorch/\n",
        "![image.png](data:image/png;base64,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)\n",
        "  \n",
        ")"
      ],
      "metadata": {
        "id": "7OqjYP41Gtce"
      }
    },
    {
      "cell_type": "code",
      "execution_count": 2,
      "metadata": {
        "colab": {
          "base_uri": "https://localhost:8080/"
        },
        "id": "SJuFfrEaGW_f",
        "outputId": "39ccd42c-1824-4fd5-a6c7-d1f5629ff841"
      },
      "outputs": [
        {
          "output_type": "execute_result",
          "data": {
            "text/plain": [
              "tensor([[1, 2],\n",
              "        [3, 4]])"
            ]
          },
          "metadata": {},
          "execution_count": 2
        }
      ],
      "source": [
        "import torch\n",
        "import numpy as np\n",
        "data = [\n",
        "    [1, 2],\n",
        "    [3, 4]\n",
        "]\n",
        "\n",
        "x_data = torch.tensor(data)\n",
        "x_data"
      ]
    },
    {
      "cell_type": "code",
      "source": [
        "np_array = np.array(data)\n",
        "x_np = torch.from_numpy(np_array)\n",
        "\n",
        "print(f\"Numpy np_array value: \\n {np_array} \\n\")\n",
        "print(f\"Tensor x_np value: \\n {x_np} \\n\")\n",
        "\n",
        "np.multiply(np_array, 2, out=np_array)\n",
        "\n",
        "print(f\"Numpy np_array after * 2 operation: \\n {np_array} \\n\")\n",
        "print(f\"Tensor x_np value after modifying numpy array: \\n {x_np} \\n\");"
      ],
      "metadata": {
        "colab": {
          "base_uri": "https://localhost:8080/"
        },
        "id": "OCKPTjRQHkfY",
        "outputId": "c7851475-82a8-4126-aa2d-fa5c0ee0e157"
      },
      "execution_count": 3,
      "outputs": [
        {
          "output_type": "stream",
          "name": "stdout",
          "text": [
            "Numpy np_array value: \n",
            " [[1 2]\n",
            " [3 4]] \n",
            "\n",
            "Tensor x_np value: \n",
            " tensor([[1, 2],\n",
            "        [3, 4]]) \n",
            "\n",
            "Numpy np_array after * 2 operation: \n",
            " [[2 4]\n",
            " [6 8]] \n",
            "\n",
            "Tensor x_np value after modifying numpy array: \n",
            " tensor([[2, 4],\n",
            "        [6, 8]]) \n",
            "\n"
          ]
        }
      ]
    },
    {
      "cell_type": "code",
      "source": [
        "x_ones = torch.ones_like(x_data)\n",
        "print(f\"Ones Tensor: \\n {x_ones} \\n\")\n",
        "\n",
        "x_rand = torch.rand_like(x_data, dtype=torch.float)\n",
        "print(f\"Random Tensor: \\n {x_rand} \\n\")"
      ],
      "metadata": {
        "colab": {
          "base_uri": "https://localhost:8080/"
        },
        "id": "oMpa7Sz_IV6v",
        "outputId": "fe49ae51-8fbb-4fd9-fdbd-3bfe4cc84a62"
      },
      "execution_count": 4,
      "outputs": [
        {
          "output_type": "stream",
          "name": "stdout",
          "text": [
            "Ones Tensor: \n",
            " tensor([[1, 1],\n",
            "        [1, 1]]) \n",
            "\n",
            "Random Tensor: \n",
            " tensor([[0.4774, 0.8559],\n",
            "        [0.0883, 0.6629]]) \n",
            "\n"
          ]
        }
      ]
    },
    {
      "cell_type": "code",
      "source": [
        "shape = (2,3,)\n",
        "rand_tensor = torch.rand(shape)\n",
        "ones_tensor = torch.ones(shape) \n",
        "zeros_tensor = torch.zeros(shape)\n",
        "\n",
        "print(f\"Random Tensor: \\n {rand_tensor} \\n\")\n",
        "print(f\"Ones Tensor: \\n {ones_tensor} \\n\")\n",
        "print(f\"Zero Tensor: \\n {zeros_tensor} \\n\")"
      ],
      "metadata": {
        "colab": {
          "base_uri": "https://localhost:8080/"
        },
        "id": "eDMu0RcqIlkm",
        "outputId": "c06d3d25-8065-4ff2-e569-d60171a53a8e"
      },
      "execution_count": 5,
      "outputs": [
        {
          "output_type": "stream",
          "name": "stdout",
          "text": [
            "Random Tensor: \n",
            " tensor([[0.9056, 0.3576, 0.3944],\n",
            "        [0.2537, 0.2307, 0.4444]]) \n",
            "\n",
            "Ones Tensor: \n",
            " tensor([[1., 1., 1.],\n",
            "        [1., 1., 1.]]) \n",
            "\n",
            "Zero Tensor: \n",
            " tensor([[0., 0., 0.],\n",
            "        [0., 0., 0.]]) \n",
            "\n"
          ]
        }
      ]
    },
    {
      "cell_type": "code",
      "source": [
        "tensor = torch.rand(3, 4)\n",
        "\n",
        "print(f\"Shape of tensor: {tensor.shape}\")\n",
        "print(f\"Datatype of tensor: {tensor.dtype}\")\n",
        "print(f\"Device tensor is stored on: {tensor.device}\")"
      ],
      "metadata": {
        "colab": {
          "base_uri": "https://localhost:8080/"
        },
        "id": "9Q23OQ5KJSLx",
        "outputId": "1bcd156f-83d3-40c5-8e3f-b9e5dc0e4ce0"
      },
      "execution_count": 6,
      "outputs": [
        {
          "output_type": "stream",
          "name": "stdout",
          "text": [
            "Shape of tensor: torch.Size([3, 4])\n",
            "Datatype of tensor: torch.float32\n",
            "Device tensor is stored on: cpu\n"
          ]
        }
      ]
    },
    {
      "cell_type": "code",
      "source": [
        "# We move our tensor to the GPU if available\n",
        "if torch.cuda.is_available():\n",
        "  tensor = tensor.to('cuda')"
      ],
      "metadata": {
        "id": "mRDfz5mXJx_8"
      },
      "execution_count": 7,
      "outputs": []
    },
    {
      "cell_type": "code",
      "source": [
        "tensor = torch.ones(4, 4)\n",
        "print('First row: ', tensor[0])\n",
        "print('First column: ', tensor[:, 0])\n",
        "print('Last column: ', tensor[..., -1])\n",
        "tensor[:,1] = 0\n",
        "print(tensor)"
      ],
      "metadata": {
        "colab": {
          "base_uri": "https://localhost:8080/"
        },
        "id": "qnc1RySNKVoK",
        "outputId": "aca1fb41-4f69-4f1c-aad6-5bb3c857c41a"
      },
      "execution_count": 8,
      "outputs": [
        {
          "output_type": "stream",
          "name": "stdout",
          "text": [
            "First row:  tensor([1., 1., 1., 1.])\n",
            "First column:  tensor([1., 1., 1., 1.])\n",
            "Last column:  tensor([1., 1., 1., 1.])\n",
            "tensor([[1., 0., 1., 1.],\n",
            "        [1., 0., 1., 1.],\n",
            "        [1., 0., 1., 1.],\n",
            "        [1., 0., 1., 1.]])\n"
          ]
        }
      ]
    },
    {
      "cell_type": "code",
      "source": [
        "t1 = torch.cat([tensor, tensor, tensor], dim=1)\n",
        "print(t1)"
      ],
      "metadata": {
        "colab": {
          "base_uri": "https://localhost:8080/"
        },
        "id": "Vaj55cywKoIk",
        "outputId": "c4974f26-6cd8-4f27-e4cb-e15fa96b5d06"
      },
      "execution_count": 9,
      "outputs": [
        {
          "output_type": "stream",
          "name": "stdout",
          "text": [
            "tensor([[1., 0., 1., 1., 1., 0., 1., 1., 1., 0., 1., 1.],\n",
            "        [1., 0., 1., 1., 1., 0., 1., 1., 1., 0., 1., 1.],\n",
            "        [1., 0., 1., 1., 1., 0., 1., 1., 1., 0., 1., 1.],\n",
            "        [1., 0., 1., 1., 1., 0., 1., 1., 1., 0., 1., 1.]])\n"
          ]
        }
      ]
    },
    {
      "cell_type": "code",
      "source": [
        "# This computes the matrix multiplication between two tensors. y1, y2, y3 will have the same value\n",
        "y1 = tensor @ tensor.T\n",
        "y2 = tensor.matmul(tensor.T)\n",
        "\n",
        "y3 = torch.rand_like(tensor)\n",
        "torch.matmul(tensor, tensor.T, out=y3)\n",
        "\n",
        "\n",
        "# This computes the element-wise product. z1, z2, z3 will have the same value\n",
        "z1 = tensor * tensor\n",
        "z2 = tensor.mul(tensor)\n",
        "\n",
        "z3 = torch.rand_like(tensor)\n",
        "torch.mul(tensor, tensor, out=z3)"
      ],
      "metadata": {
        "colab": {
          "base_uri": "https://localhost:8080/"
        },
        "id": "FWTWeg24K2wk",
        "outputId": "1d2275d0-0ba0-44f7-ce4a-58b9839acb79"
      },
      "execution_count": 10,
      "outputs": [
        {
          "output_type": "execute_result",
          "data": {
            "text/plain": [
              "tensor([[1., 0., 1., 1.],\n",
              "        [1., 0., 1., 1.],\n",
              "        [1., 0., 1., 1.],\n",
              "        [1., 0., 1., 1.]])"
            ]
          },
          "metadata": {},
          "execution_count": 10
        }
      ]
    },
    {
      "cell_type": "code",
      "source": [
        "agg = tensor.sum()\n",
        "agg_item = agg.item()\n",
        "print(agg_item, type(agg_item))"
      ],
      "metadata": {
        "colab": {
          "base_uri": "https://localhost:8080/"
        },
        "id": "GiyhvkkkK6U_",
        "outputId": "7bfe6b66-31df-4f63-d7e2-17937ba5c682"
      },
      "execution_count": 11,
      "outputs": [
        {
          "output_type": "stream",
          "name": "stdout",
          "text": [
            "12.0 <class 'float'>\n"
          ]
        }
      ]
    },
    {
      "cell_type": "code",
      "source": [
        "print(tensor, \"\\n\")\n",
        "tensor.add_(5)\n",
        "print(tensor)"
      ],
      "metadata": {
        "colab": {
          "base_uri": "https://localhost:8080/"
        },
        "id": "1k59iLMFLHtn",
        "outputId": "721e5fb4-0c12-47b4-ef93-69a735dbf4fd"
      },
      "execution_count": 13,
      "outputs": [
        {
          "output_type": "stream",
          "name": "stdout",
          "text": [
            "tensor([[1., 0., 1., 1.],\n",
            "        [1., 0., 1., 1.],\n",
            "        [1., 0., 1., 1.],\n",
            "        [1., 0., 1., 1.]]) \n",
            "\n",
            "tensor([[6., 5., 6., 6.],\n",
            "        [6., 5., 6., 6.],\n",
            "        [6., 5., 6., 6.],\n",
            "        [6., 5., 6., 6.]])\n"
          ]
        }
      ]
    },
    {
      "cell_type": "code",
      "source": [
        "t = torch.ones(5)\n",
        "print(f\"t: {t}\")\n",
        "\n",
        "n = t.numpy()\n",
        "print(f\"n: {n}\")"
      ],
      "metadata": {
        "colab": {
          "base_uri": "https://localhost:8080/"
        },
        "id": "gwsrYuvELQmS",
        "outputId": "6e8feb27-b266-482e-b9d5-b5562379786c"
      },
      "execution_count": 14,
      "outputs": [
        {
          "output_type": "stream",
          "name": "stdout",
          "text": [
            "t: tensor([1., 1., 1., 1., 1.])\n",
            "n: [1. 1. 1. 1. 1.]\n"
          ]
        }
      ]
    },
    {
      "cell_type": "code",
      "source": [
        "t.add_(1)\n",
        "print(f\"t: {t}\")\n",
        "print(f\"n: {n}\")"
      ],
      "metadata": {
        "colab": {
          "base_uri": "https://localhost:8080/"
        },
        "id": "22JXg7fYLZGn",
        "outputId": "7037b15b-3093-420d-a3c3-2729b4b42acd"
      },
      "execution_count": 15,
      "outputs": [
        {
          "output_type": "stream",
          "name": "stdout",
          "text": [
            "t: tensor([2., 2., 2., 2., 2.])\n",
            "n: [2. 2. 2. 2. 2.]\n"
          ]
        }
      ]
    },
    {
      "cell_type": "code",
      "source": [
        "n = np.ones(5)\n",
        "t = torch.from_numpy(n)\n",
        "t"
      ],
      "metadata": {
        "colab": {
          "base_uri": "https://localhost:8080/"
        },
        "id": "96oMUdVwLioO",
        "outputId": "7fb94963-1e65-43f7-e64c-007890a52220"
      },
      "execution_count": 17,
      "outputs": [
        {
          "output_type": "execute_result",
          "data": {
            "text/plain": [
              "tensor([1., 1., 1., 1., 1.], dtype=torch.float64)"
            ]
          },
          "metadata": {},
          "execution_count": 17
        }
      ]
    },
    {
      "cell_type": "code",
      "source": [
        "%matplotlib inline\n",
        "import torch\n",
        "from torch.utils.data import Dataset\n",
        "from torchvision import datasets \n",
        "from torchvision.transforms import ToTensor, Lambda \n",
        "import matplotlib.pyplot as plt\n",
        "\n",
        "training_data = datasets.FashionMNIST(\n",
        "    root=\"data\",\n",
        "    train=True,\n",
        "    download=True,\n",
        "    transform=ToTensor()\n",
        ")\n",
        "\n",
        "test_data = datasets.FashionMNIST(\n",
        "    root=\"data\",\n",
        "    train=False,\n",
        "    download=True,\n",
        "    transform=ToTensor()\n",
        ")\n",
        "\n",
        "labels_map = {\n",
        "    0: \"T-Shirt\",\n",
        "    1: \"Trouser\",\n",
        "    2: \"Pullover\",\n",
        "    3: \"Dress\",\n",
        "    4: \"Coat\",\n",
        "    5: \"Sandal\",\n",
        "    6: \"Shirt\",\n",
        "    7: \"Sneaker\",\n",
        "    8: \"Bag\",\n",
        "    9: \"Ankle Boot\",\n",
        "}\n",
        "\n",
        "figure = plt.figure(figsize=(8,8))\n",
        "cols, rows = 3, 3\n",
        "for i in range(1, cols * rows + 1):\n",
        "  sample_idx = torch.randint(len(training_data), size=(1,)).item()\n",
        "  img, label = training_data[sample_idx]\n",
        "  figure.add_subplot(rows, cols, i)\n",
        "  plt.title(labels_map[label])\n",
        "  plt.axis(\"off\")\n",
        "  plt.imshow(img.squeeze(), cmap=\"gray\")\n",
        "plt.show()"
      ],
      "metadata": {
        "colab": {
          "base_uri": "https://localhost:8080/",
          "height": 896,
          "referenced_widgets": [
            "bf7f201b0bf843deabab364ca65788a2",
            "4f503149bab54a4daa1a072f07fe087f",
            "cabf5406bac34eb9b4000f258c5f9b0e",
            "19c44b80a61d453f9ee263061f76def7",
            "11eba9b46aa94ec6b613d693ccb462ac",
            "904c495763154cafbda924a34643231c",
            "0633432a786d459a997a7422585c4fa6",
            "f587170a22a242a49cf13fce057d8ddd",
            "c14a7c38c3f64fe48e175671f66a1355",
            "9ceb0d48cf624018b0fbc64f9bfdfe9d",
            "4468302438624edbbedecf9571be85d1",
            "2f17ae98d3724af9a595fbc47ef56237",
            "ec93b75852b64812b1c6278a7e8479b4",
            "97badafbc762434aa21ddc15dbe952c5",
            "d6b4d37e281541d380a4990e949f8cc2",
            "af750815d0ec400ea739b35f57636412",
            "5303b791117c42a08eae70c304c7a216",
            "0bc9b5b9609241088dccc5a821253a13",
            "7b8a247e77054ff6b21d3da6bf69b423",
            "7e052e89fbcc47a49f34c76097abdb0a",
            "07f12460834a4a01a777143125d9c4c2",
            "e01ad0c9015d441a83e3926034bd6ef5",
            "f96cc055b57a4a608a07112d926680d3",
            "a1a014fecc504dfcba0e38d62a194941",
            "95ab69769af54ac78b4f3b77741b18a3",
            "dfcb42f3abd44e8ab68ce382d324347c",
            "7031fd4e8c914c1d933b8b1305eb685d",
            "4375a00aea194e069393ec5862003e6f",
            "e731b6ac7cb64c6aa20b9623de446a22",
            "a06a5ad2af90443b95052ca9fadfb135",
            "fb2760dc27014fe7a04a1812a585127b",
            "66cd3ebf721445f3909fbd6d10674f17",
            "688152f8d38f44ac954e2ae1b5c9943c",
            "ca1a8b84811b42e887469df6f56546f6",
            "1c48a34690de405a99591b6b8961333d",
            "a417afc605c148b183c4fb3c8d7d4b53",
            "55f72fb82fab4b13aade6bad811a82cc",
            "19da371d6c3248e38f1b5a9b705d956e",
            "918ec9f9074140168b1a982b84cbbdeb",
            "ddce7129f13742db818ad81a813f71f8",
            "f2a29248a0d8499e90699a0d17f33df8",
            "ca25079a27eb432d93762a94c51270f7",
            "45305ded7c354bb799d3b7b8f2218ddb",
            "eafbdb486dfc4bcfa1dd2a98fc05a3f8"
          ]
        },
        "id": "d4T3u__6MH2D",
        "outputId": "27a1ff07-6446-44ba-8503-fbb5c94462d1"
      },
      "execution_count": 19,
      "outputs": [
        {
          "output_type": "stream",
          "name": "stdout",
          "text": [
            "Downloading http://fashion-mnist.s3-website.eu-central-1.amazonaws.com/train-images-idx3-ubyte.gz\n",
            "Downloading http://fashion-mnist.s3-website.eu-central-1.amazonaws.com/train-images-idx3-ubyte.gz to data/FashionMNIST/raw/train-images-idx3-ubyte.gz\n"
          ]
        },
        {
          "output_type": "display_data",
          "data": {
            "text/plain": [
              "  0%|          | 0/26421880 [00:00<?, ?it/s]"
            ],
            "application/vnd.jupyter.widget-view+json": {
              "version_major": 2,
              "version_minor": 0,
              "model_id": "bf7f201b0bf843deabab364ca65788a2"
            }
          },
          "metadata": {}
        },
        {
          "output_type": "stream",
          "name": "stdout",
          "text": [
            "Extracting data/FashionMNIST/raw/train-images-idx3-ubyte.gz to data/FashionMNIST/raw\n",
            "\n",
            "Downloading http://fashion-mnist.s3-website.eu-central-1.amazonaws.com/train-labels-idx1-ubyte.gz\n",
            "Downloading http://fashion-mnist.s3-website.eu-central-1.amazonaws.com/train-labels-idx1-ubyte.gz to data/FashionMNIST/raw/train-labels-idx1-ubyte.gz\n"
          ]
        },
        {
          "output_type": "display_data",
          "data": {
            "text/plain": [
              "  0%|          | 0/29515 [00:00<?, ?it/s]"
            ],
            "application/vnd.jupyter.widget-view+json": {
              "version_major": 2,
              "version_minor": 0,
              "model_id": "2f17ae98d3724af9a595fbc47ef56237"
            }
          },
          "metadata": {}
        },
        {
          "output_type": "stream",
          "name": "stdout",
          "text": [
            "Extracting data/FashionMNIST/raw/train-labels-idx1-ubyte.gz to data/FashionMNIST/raw\n",
            "\n",
            "Downloading http://fashion-mnist.s3-website.eu-central-1.amazonaws.com/t10k-images-idx3-ubyte.gz\n",
            "Downloading http://fashion-mnist.s3-website.eu-central-1.amazonaws.com/t10k-images-idx3-ubyte.gz to data/FashionMNIST/raw/t10k-images-idx3-ubyte.gz\n"
          ]
        },
        {
          "output_type": "display_data",
          "data": {
            "text/plain": [
              "  0%|          | 0/4422102 [00:00<?, ?it/s]"
            ],
            "application/vnd.jupyter.widget-view+json": {
              "version_major": 2,
              "version_minor": 0,
              "model_id": "f96cc055b57a4a608a07112d926680d3"
            }
          },
          "metadata": {}
        },
        {
          "output_type": "stream",
          "name": "stdout",
          "text": [
            "Extracting data/FashionMNIST/raw/t10k-images-idx3-ubyte.gz to data/FashionMNIST/raw\n",
            "\n",
            "Downloading http://fashion-mnist.s3-website.eu-central-1.amazonaws.com/t10k-labels-idx1-ubyte.gz\n",
            "Downloading http://fashion-mnist.s3-website.eu-central-1.amazonaws.com/t10k-labels-idx1-ubyte.gz to data/FashionMNIST/raw/t10k-labels-idx1-ubyte.gz\n"
          ]
        },
        {
          "output_type": "display_data",
          "data": {
            "text/plain": [
              "  0%|          | 0/5148 [00:00<?, ?it/s]"
            ],
            "application/vnd.jupyter.widget-view+json": {
              "version_major": 2,
              "version_minor": 0,
              "model_id": "ca1a8b84811b42e887469df6f56546f6"
            }
          },
          "metadata": {}
        },
        {
          "output_type": "stream",
          "name": "stdout",
          "text": [
            "Extracting data/FashionMNIST/raw/t10k-labels-idx1-ubyte.gz to data/FashionMNIST/raw\n",
            "\n"
          ]
        },
        {
          "output_type": "display_data",
          "data": {
            "text/plain": [
              "<Figure size 576x576 with 9 Axes>"
            ],
            "image/png": "[encoded data removed]"
          },
          "metadata": {
            "needs_background": "light"
          }
        }
      ]
    },
    {
      "cell_type": "code",
      "source": [
        "from torch.utils.data import DataLoader\n",
        "\n",
        "train_dataloader = DataLoader(training_data, batch_size=64, shuffle=True)\n",
        "test_dataloader = DataLoader(test_data, batch_size=64, shuffle=True)\n",
        "              "
      ],
      "metadata": {
        "id": "_gaVm69oOdBY"
      },
      "execution_count": 20,
      "outputs": []
    },
    {
      "cell_type": "code",
      "source": [
        "# Display image and label.\n",
        "train_features, train_labels = next(iter(train_dataloader))\n",
        "print(f\"Feature batch shape: {train_features.size()}\")\n",
        "print(f\"Labels batch shape: {train_labels.size()}\")\n",
        "img = train_features[0].squeeze()\n",
        "label = train_labels[0]\n",
        "plt.imshow(img, cmap=\"gray\")\n",
        "plt.show()\n",
        "print(f\"Label: {label}\")\n"
      ],
      "metadata": {
        "colab": {
          "base_uri": "https://localhost:8080/",
          "height": 319
        },
        "id": "PdGxvgL0OrOC",
        "outputId": "a72ca3e1-34bb-415c-ac4d-35f2b6ca10e1"
      },
      "execution_count": 21,
      "outputs": [
        {
          "output_type": "stream",
          "name": "stdout",
          "text": [
            "Feature batch shape: torch.Size([64, 1, 28, 28])\n",
            "Labels batch shape: torch.Size([64])\n"
          ]
        },
        {
          "output_type": "display_data",
          "data": {
            "text/plain": [
              "<Figure size 432x288 with 1 Axes>"
            ],
            "image/png": "[encoded data removed]"
          },
          "metadata": {
            "needs_background": "light"
          }
        },
        {
          "output_type": "stream",
          "name": "stdout",
          "text": [
            "Label: 3\n"
          ]
        }
      ]
    },
    {
      "cell_type": "code",
      "source": [
        "from torchvision import datasets\n",
        "from torchvision.transforms import ToTensor, Lambda \n",
        "\n",
        "ds = datasets.FashionMNIST(\n",
        "    root=\"data\",\n",
        "    train=True,\n",
        "    download=True,\n",
        "    transform=ToTensor(),\n",
        "    target_transform=Lambda(lambda y: torch.zeros(10, dtype=troch.float).scatter_(0, torch.tensor(y), value=1))\n",
        ")"
      ],
      "metadata": {
        "id": "15KzAaUaPuQO"
      },
      "execution_count": 24,
      "outputs": []
    },
    {
      "cell_type": "code",
      "source": [
        "target_transform = Lambda(lambda y: torch.zeros(\n",
        "    10, dtype=torch.float).scatter_(dim=0, index=torch.tensor(y), value=1))"
      ],
      "metadata": {
        "id": "QeM2h--OQNSq"
      },
      "execution_count": 26,
      "outputs": []
    },
    {
      "cell_type": "code",
      "source": [],
      "metadata": {
        "id": "KPjR8-DJWAaJ"
      },
      "execution_count": null,
      "outputs": []
    }
  ]
}